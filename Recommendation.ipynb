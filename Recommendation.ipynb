{
  "nbformat": 4,
  "nbformat_minor": 0,
  "metadata": {
    "kernelspec": {
      "display_name": "Python 3",
      "language": "python",
      "name": "python3"
    },
    "language_info": {
      "codemirror_mode": {
        "name": "ipython",
        "version": 3
      },
      "file_extension": ".py",
      "mimetype": "text/x-python",
      "name": "python",
      "nbconvert_exporter": "python",
      "pygments_lexer": "ipython3",
      "version": "3.7.3"
    },
    "colab": {
      "name": "Recommendation.ipynb",
      "provenance": [],
      "include_colab_link": true
    }
  },
  "cells": [
    {
      "cell_type": "markdown",
      "metadata": {
        "id": "view-in-github",
        "colab_type": "text"
      },
      "source": [
        "<a href=\"https://colab.research.google.com/github/Pei-eng/crawler/blob/master/Recommendation.ipynb\" target=\"_parent\"><img src=\"https://colab.research.google.com/assets/colab-badge.svg\" alt=\"Open In Colab\"/></a>"
      ]
    },
    {
      "cell_type": "code",
      "metadata": {
        "id": "KGfe3gYEWv6C",
        "colab_type": "code",
        "colab": {},
        "outputId": "a0f06491-39c0-4883-b84e-cf28bd06b802"
      },
      "source": [
        "import requests\n",
        "import json\n",
        "req = requests.post('http://127.0.0.1:5000/', json = {'age':20,'been2tko':3,'days':5,\n",
        "                                                      'budget':35000,'isFemale':0,'hotel budget':3000})\n",
        "#req = requests.get('http://127.0.0.1:5000/')\n",
        "req.json()"
      ],
      "execution_count": 0,
      "outputs": [
        {
          "output_type": "execute_result",
          "data": {
            "text/plain": [
              "{'CP': 3.684661525,\n",
              " 'pre': 2.0,\n",
              " '交通1': '京橋站 - 走路 2 分鐘',\n",
              " '交通2': '八丁堀站 - 走路 10 分鐘',\n",
              " '交通3': '東京, 日本 (HND-羽田機場) - 車程 15 分鐘',\n",
              " '交通便利性': '2',\n",
              " '價格': 1167.0,\n",
              " '地址': '2-5-4 Kyobashi, 東京, 東京',\n",
              " '廚房': 0.0,\n",
              " '星等': 3.0,\n",
              " '經度': 139.770714,\n",
              " '網址': 'https://www.expedia.com.tw/Tokyo-Hotels-Another-TOKYO.h34404110.Hotel-Information?chkin=2019%2F10%2F4&chkout=2019%2F10%2F5&regionId=179900&destination=%E6%9D%B1%E4%BA%AC+%28%E5%8F%8A%E9%84%B0%E8%BF%91%E5%9C%B0%E5%8D%80%29%2C+%E6%97%A5%E6%9C%AC&swpToggleOn=true&rm1=a1&x_pwa=1&sort=recommended&top_dp=1167&top_cur=TWD&rfrr=HSR&pwa_ts=1570019075313',\n",
              " '緯度': 35.676451,\n",
              " '評價': 4.3,\n",
              " '鄰近景點1': '歌舞伎座 - 步行 13 分鐘',\n",
              " '鄰近景點2': '皇居 - 步行 19 分鐘',\n",
              " '鄰近景點3': '國會議事堂 - 開車 3 分鐘',\n",
              " '鄰近景點4': '皇居東御苑 - 開車 5 分鐘',\n",
              " '鄰近景點5': '秋葉原電器街 - 開車 17 分鐘',\n",
              " '飯店名稱': '東京另一面飯店'}"
            ]
          },
          "metadata": {
            "tags": []
          },
          "execution_count": 24
        }
      ]
    }
  ]
}